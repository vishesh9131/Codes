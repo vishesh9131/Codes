{
 "cells": [
  {
   "cell_type": "code",
   "execution_count": 1,
   "metadata": {},
   "outputs": [],
   "source": [
    "import pandas as pd\n",
    "import numpy as np\n",
    "import matplotlib.pyplot as plt\n",
    "from sklearn.linear_model import LinearRegression\n",
    "\n",
    "import warnings\n",
    "warnings.filterwarnings(\"ignore\", category=FutureWarning, message=\"is_sparse is deprecated\")"
   ]
  },
  {
   "cell_type": "code",
   "execution_count": 2,
   "metadata": {},
   "outputs": [
    {
     "name": "stdout",
     "output_type": "stream",
     "text": [
      "0             y         x    Ph   NTU    CL  NaN  NaN  NaN  NaN             y  \\\n",
      "0  -17.93448446  30.94626  7.65  21.1  53.3  NaN  NaN  NaN  NaN  -17.92385492   \n",
      "1  -17.94246796  30.91665  7.48  11.3  69.5  NaN  NaN  NaN  NaN  -17.90941487   \n",
      "2  -18.08115342  31.22631   7.9  16.7     1  NaN  NaN  NaN  NaN   -17.8738036   \n",
      "3  -17.92385492   30.8926  7.66  2.14  70.3  NaN  NaN  NaN  NaN  -17.81676714   \n",
      "4  -17.90941487  30.85175  7.63  10.7  99.6  NaN  NaN  NaN  NaN  -17.91960257   \n",
      "\n",
      "0         x    Ph    ntu     cl  \n",
      "0   30.8926  7.21   30.8  184.2  \n",
      "1  30.85175  7.33    258  238.7  \n",
      "2   30.7641  7.12   31.2   68.2  \n",
      "3   31.0026  7.36   0.32   64.4  \n",
      "4   30.9831  7.07  0.168   68.8  \n"
     ]
    }
   ],
   "source": [
    "water_data = pd.read_csv('water_parameters.csv')\n",
    "\n",
    "# Set the correct header\n",
    "water_data.columns = water_data.iloc[0]\n",
    "water_data = water_data[1:]\n",
    "water_data.reset_index(drop=True, inplace=True)\n",
    "\n",
    "print(water_data.head())"
   ]
  },
  {
   "cell_type": "code",
   "execution_count": null,
   "metadata": {},
   "outputs": [],
   "source": []
  }
 ],
 "metadata": {
  "kernelspec": {
   "display_name": "base",
   "language": "python",
   "name": "base"
  },
  "language_info": {
   "codemirror_mode": {
    "name": "ipython",
    "version": 3
   },
   "file_extension": ".py",
   "mimetype": "text/x-python",
   "name": "python",
   "nbconvert_exporter": "python",
   "pygments_lexer": "ipython3",
   "version": "3.11.7"
  }
 },
 "nbformat": 4,
 "nbformat_minor": 2
}
